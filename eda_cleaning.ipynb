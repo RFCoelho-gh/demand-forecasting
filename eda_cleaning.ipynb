{
 "cells": [
  {
   "cell_type": "code",
   "execution_count": 18,
   "id": "0f4c3ce3-9473-4fed-99b4-ddae5b2fc09a",
   "metadata": {},
   "outputs": [],
   "source": [
    "import pandas as pd\n",
    "import datetime\n",
    "import matplotlib.pyplot as plt\n",
    "from sklearn.model_selection import GridSearchCV, train_test_split, TimeSeriesSplit\n",
    "import numpy as np\n",
    "#from xgboost import XGBRegressor\n",
    "from sklearn.metrics import mean_absolute_error, mean_squared_error, r2_score\n",
    "import joblib"
   ]
  },
  {
   "cell_type": "code",
   "execution_count": 19,
   "id": "61c7ea38-a64b-44f9-a1c1-659424bd1f67",
   "metadata": {},
   "outputs": [],
   "source": [
    "# Define the path to the CSV file\n",
    "file_path = './data/sales_train_evaluation.csv'\n",
    "\n",
    "# Read the CSV file into a DataFrame\n",
    "sales_df = pd.read_csv(file_path)\n"
   ]
  },
  {
   "cell_type": "code",
   "execution_count": 20,
   "id": "3acb34ba-f63d-42eb-9c9e-b20d2a43c3b1",
   "metadata": {},
   "outputs": [],
   "source": [
    "# Define the path to the CSV file\n",
    "file_path = './data/calendar.csv'\n",
    "\n",
    "# Read the CSV file into a DataFrame\n",
    "calendar_df = pd.read_csv(file_path)\n"
   ]
  },
  {
   "cell_type": "code",
   "execution_count": 21,
   "id": "21420441-727c-4eb6-a999-1a526a14ef25",
   "metadata": {},
   "outputs": [
    {
     "data": {
      "text/html": [
       "<div>\n",
       "<style scoped>\n",
       "    .dataframe tbody tr th:only-of-type {\n",
       "        vertical-align: middle;\n",
       "    }\n",
       "\n",
       "    .dataframe tbody tr th {\n",
       "        vertical-align: top;\n",
       "    }\n",
       "\n",
       "    .dataframe thead th {\n",
       "        text-align: right;\n",
       "    }\n",
       "</style>\n",
       "<table border=\"1\" class=\"dataframe\">\n",
       "  <thead>\n",
       "    <tr style=\"text-align: right;\">\n",
       "      <th></th>\n",
       "      <th>id</th>\n",
       "      <th>item_id</th>\n",
       "      <th>dept_id</th>\n",
       "      <th>cat_id</th>\n",
       "      <th>store_id</th>\n",
       "      <th>state_id</th>\n",
       "      <th>d_1</th>\n",
       "      <th>d_2</th>\n",
       "      <th>d_3</th>\n",
       "      <th>d_4</th>\n",
       "      <th>...</th>\n",
       "      <th>d_1932</th>\n",
       "      <th>d_1933</th>\n",
       "      <th>d_1934</th>\n",
       "      <th>d_1935</th>\n",
       "      <th>d_1936</th>\n",
       "      <th>d_1937</th>\n",
       "      <th>d_1938</th>\n",
       "      <th>d_1939</th>\n",
       "      <th>d_1940</th>\n",
       "      <th>d_1941</th>\n",
       "    </tr>\n",
       "  </thead>\n",
       "  <tbody>\n",
       "    <tr>\n",
       "      <th>0</th>\n",
       "      <td>HOBBIES_1_001_CA_1_evaluation</td>\n",
       "      <td>HOBBIES_1_001</td>\n",
       "      <td>HOBBIES_1</td>\n",
       "      <td>HOBBIES</td>\n",
       "      <td>CA_1</td>\n",
       "      <td>CA</td>\n",
       "      <td>0</td>\n",
       "      <td>0</td>\n",
       "      <td>0</td>\n",
       "      <td>0</td>\n",
       "      <td>...</td>\n",
       "      <td>2</td>\n",
       "      <td>4</td>\n",
       "      <td>0</td>\n",
       "      <td>0</td>\n",
       "      <td>0</td>\n",
       "      <td>0</td>\n",
       "      <td>3</td>\n",
       "      <td>3</td>\n",
       "      <td>0</td>\n",
       "      <td>1</td>\n",
       "    </tr>\n",
       "    <tr>\n",
       "      <th>1</th>\n",
       "      <td>HOBBIES_1_002_CA_1_evaluation</td>\n",
       "      <td>HOBBIES_1_002</td>\n",
       "      <td>HOBBIES_1</td>\n",
       "      <td>HOBBIES</td>\n",
       "      <td>CA_1</td>\n",
       "      <td>CA</td>\n",
       "      <td>0</td>\n",
       "      <td>0</td>\n",
       "      <td>0</td>\n",
       "      <td>0</td>\n",
       "      <td>...</td>\n",
       "      <td>0</td>\n",
       "      <td>1</td>\n",
       "      <td>2</td>\n",
       "      <td>1</td>\n",
       "      <td>1</td>\n",
       "      <td>0</td>\n",
       "      <td>0</td>\n",
       "      <td>0</td>\n",
       "      <td>0</td>\n",
       "      <td>0</td>\n",
       "    </tr>\n",
       "  </tbody>\n",
       "</table>\n",
       "<p>2 rows × 1947 columns</p>\n",
       "</div>"
      ],
      "text/plain": [
       "                              id        item_id    dept_id   cat_id store_id  \\\n",
       "0  HOBBIES_1_001_CA_1_evaluation  HOBBIES_1_001  HOBBIES_1  HOBBIES     CA_1   \n",
       "1  HOBBIES_1_002_CA_1_evaluation  HOBBIES_1_002  HOBBIES_1  HOBBIES     CA_1   \n",
       "\n",
       "  state_id  d_1  d_2  d_3  d_4  ...  d_1932  d_1933  d_1934  d_1935  d_1936  \\\n",
       "0       CA    0    0    0    0  ...       2       4       0       0       0   \n",
       "1       CA    0    0    0    0  ...       0       1       2       1       1   \n",
       "\n",
       "   d_1937  d_1938  d_1939  d_1940  d_1941  \n",
       "0       0       3       3       0       1  \n",
       "1       0       0       0       0       0  \n",
       "\n",
       "[2 rows x 1947 columns]"
      ]
     },
     "execution_count": 21,
     "metadata": {},
     "output_type": "execute_result"
    }
   ],
   "source": [
    "sales_df.head(2)"
   ]
  },
  {
   "cell_type": "code",
   "execution_count": 22,
   "id": "05e32f25-3a3b-468b-ab90-0a13203f590b",
   "metadata": {},
   "outputs": [
    {
     "data": {
      "text/plain": [
       "(30490, 1947)"
      ]
     },
     "execution_count": 22,
     "metadata": {},
     "output_type": "execute_result"
    }
   ],
   "source": [
    "sales_df.shape"
   ]
  },
  {
   "cell_type": "code",
   "execution_count": 23,
   "id": "f69750a4-2fbc-4a53-bd4d-c8e9da446b26",
   "metadata": {},
   "outputs": [],
   "source": [
    "# Reshaping the data from wide to long format, as to use days easier\n",
    "\n",
    "sales_long = sales_df.melt(\n",
    "    id_vars=['id', 'item_id', 'dept_id', 'cat_id', 'store_id', 'state_id'],\n",
    "    var_name='day',\n",
    "    value_name='sales'\n",
    ")"
   ]
  },
  {
   "cell_type": "code",
   "execution_count": 53,
   "id": "fe7156a3-c8f5-439f-acb5-6fff16b14ec0",
   "metadata": {},
   "outputs": [
    {
     "data": {
      "text/plain": [
       "(59181090, 8)"
      ]
     },
     "execution_count": 53,
     "metadata": {},
     "output_type": "execute_result"
    }
   ],
   "source": [
    "sales_long.shape"
   ]
  },
  {
   "cell_type": "code",
   "execution_count": 24,
   "id": "b32093ce-b5ca-4685-9eed-fcda9fdec98f",
   "metadata": {},
   "outputs": [
    {
     "data": {
      "text/plain": [
       "cat_id\n",
       "FOODS        27892170\n",
       "HOUSEHOLD    20322270\n",
       "HOBBIES      10966650\n",
       "Name: count, dtype: int64"
      ]
     },
     "execution_count": 24,
     "metadata": {},
     "output_type": "execute_result"
    }
   ],
   "source": [
    "sales_long[\"cat_id\"].value_counts()"
   ]
  },
  {
   "cell_type": "code",
   "execution_count": 25,
   "id": "aaf4aff8-a215-4ac4-b0b8-26606d6f464b",
   "metadata": {},
   "outputs": [],
   "source": [
    "hobbies_sales_long = sales_long[sales_long['cat_id'] == 'HOBBIES']"
   ]
  },
  {
   "cell_type": "code",
   "execution_count": 26,
   "id": "98aa0c32-35dd-4145-a540-1d6ffddf1e07",
   "metadata": {},
   "outputs": [
    {
     "data": {
      "text/plain": [
       "(10966650, 8)"
      ]
     },
     "execution_count": 26,
     "metadata": {},
     "output_type": "execute_result"
    }
   ],
   "source": [
    "hobbies_sales_long.shape"
   ]
  },
  {
   "cell_type": "code",
   "execution_count": 27,
   "id": "5fa78fd9-05b7-437a-8643-480b931e57ea",
   "metadata": {},
   "outputs": [],
   "source": [
    "ca_hobbies_sales_long = hobbies_sales_long[hobbies_sales_long['state_id'] == 'CA']"
   ]
  },
  {
   "cell_type": "code",
   "execution_count": 28,
   "id": "fb418931-4950-48b6-a73c-33525340153a",
   "metadata": {},
   "outputs": [
    {
     "data": {
      "text/plain": [
       "(4386660, 8)"
      ]
     },
     "execution_count": 28,
     "metadata": {},
     "output_type": "execute_result"
    }
   ],
   "source": [
    "ca_hobbies_sales_long.shape"
   ]
  },
  {
   "cell_type": "code",
   "execution_count": 29,
   "id": "c47c3858-f153-4a40-ad49-26b108737dba",
   "metadata": {},
   "outputs": [],
   "source": [
    "## All SKU in Hobbie Department, within Primary Store in California\n",
    "# About 1.1 M entries\n",
    "\n",
    "alpha_ca_hobbies_sales_long = ca_hobbies_sales_long[ca_hobbies_sales_long['store_id'] == 'CA_1']"
   ]
  },
  {
   "cell_type": "code",
   "execution_count": 30,
   "id": "be6b82db-28d5-43bb-8a79-83d843dda631",
   "metadata": {},
   "outputs": [
    {
     "data": {
      "text/plain": [
       "(1096665, 8)"
      ]
     },
     "execution_count": 30,
     "metadata": {},
     "output_type": "execute_result"
    }
   ],
   "source": [
    "alpha_ca_hobbies_sales_long.shape"
   ]
  },
  {
   "cell_type": "code",
   "execution_count": 31,
   "id": "800545ca-7ba3-4a03-b541-9c3f90c0e0dd",
   "metadata": {},
   "outputs": [],
   "source": [
    "# Assume 'df' is your DataFrame and 'column_name' is the name of the column you want to extract\n",
    "list_hobbies_products = alpha_ca_hobbies_sales_long['item_id'].tolist()\n",
    "\n",
    "#list_hobbies_products"
   ]
  },
  {
   "cell_type": "code",
   "execution_count": 32,
   "id": "ec4be649-d39b-4302-a2be-9e59e0354a96",
   "metadata": {},
   "outputs": [
    {
     "data": {
      "text/html": [
       "<div>\n",
       "<style scoped>\n",
       "    .dataframe tbody tr th:only-of-type {\n",
       "        vertical-align: middle;\n",
       "    }\n",
       "\n",
       "    .dataframe tbody tr th {\n",
       "        vertical-align: top;\n",
       "    }\n",
       "\n",
       "    .dataframe thead th {\n",
       "        text-align: right;\n",
       "    }\n",
       "</style>\n",
       "<table border=\"1\" class=\"dataframe\">\n",
       "  <thead>\n",
       "    <tr style=\"text-align: right;\">\n",
       "      <th></th>\n",
       "      <th>id</th>\n",
       "      <th>item_id</th>\n",
       "      <th>dept_id</th>\n",
       "      <th>cat_id</th>\n",
       "      <th>store_id</th>\n",
       "      <th>state_id</th>\n",
       "      <th>day</th>\n",
       "      <th>sales</th>\n",
       "    </tr>\n",
       "  </thead>\n",
       "  <tbody>\n",
       "    <tr>\n",
       "      <th>0</th>\n",
       "      <td>HOBBIES_1_001_CA_1_evaluation</td>\n",
       "      <td>HOBBIES_1_001</td>\n",
       "      <td>HOBBIES_1</td>\n",
       "      <td>HOBBIES</td>\n",
       "      <td>CA_1</td>\n",
       "      <td>CA</td>\n",
       "      <td>d_1</td>\n",
       "      <td>0</td>\n",
       "    </tr>\n",
       "    <tr>\n",
       "      <th>1</th>\n",
       "      <td>HOBBIES_1_002_CA_1_evaluation</td>\n",
       "      <td>HOBBIES_1_002</td>\n",
       "      <td>HOBBIES_1</td>\n",
       "      <td>HOBBIES</td>\n",
       "      <td>CA_1</td>\n",
       "      <td>CA</td>\n",
       "      <td>d_1</td>\n",
       "      <td>0</td>\n",
       "    </tr>\n",
       "    <tr>\n",
       "      <th>2</th>\n",
       "      <td>HOBBIES_1_003_CA_1_evaluation</td>\n",
       "      <td>HOBBIES_1_003</td>\n",
       "      <td>HOBBIES_1</td>\n",
       "      <td>HOBBIES</td>\n",
       "      <td>CA_1</td>\n",
       "      <td>CA</td>\n",
       "      <td>d_1</td>\n",
       "      <td>0</td>\n",
       "    </tr>\n",
       "    <tr>\n",
       "      <th>3</th>\n",
       "      <td>HOBBIES_1_004_CA_1_evaluation</td>\n",
       "      <td>HOBBIES_1_004</td>\n",
       "      <td>HOBBIES_1</td>\n",
       "      <td>HOBBIES</td>\n",
       "      <td>CA_1</td>\n",
       "      <td>CA</td>\n",
       "      <td>d_1</td>\n",
       "      <td>0</td>\n",
       "    </tr>\n",
       "    <tr>\n",
       "      <th>4</th>\n",
       "      <td>HOBBIES_1_005_CA_1_evaluation</td>\n",
       "      <td>HOBBIES_1_005</td>\n",
       "      <td>HOBBIES_1</td>\n",
       "      <td>HOBBIES</td>\n",
       "      <td>CA_1</td>\n",
       "      <td>CA</td>\n",
       "      <td>d_1</td>\n",
       "      <td>0</td>\n",
       "    </tr>\n",
       "    <tr>\n",
       "      <th>...</th>\n",
       "      <td>...</td>\n",
       "      <td>...</td>\n",
       "      <td>...</td>\n",
       "      <td>...</td>\n",
       "      <td>...</td>\n",
       "      <td>...</td>\n",
       "      <td>...</td>\n",
       "      <td>...</td>\n",
       "    </tr>\n",
       "    <tr>\n",
       "      <th>59151160</th>\n",
       "      <td>HOBBIES_2_145_CA_1_evaluation</td>\n",
       "      <td>HOBBIES_2_145</td>\n",
       "      <td>HOBBIES_2</td>\n",
       "      <td>HOBBIES</td>\n",
       "      <td>CA_1</td>\n",
       "      <td>CA</td>\n",
       "      <td>d_1941</td>\n",
       "      <td>0</td>\n",
       "    </tr>\n",
       "    <tr>\n",
       "      <th>59151161</th>\n",
       "      <td>HOBBIES_2_146_CA_1_evaluation</td>\n",
       "      <td>HOBBIES_2_146</td>\n",
       "      <td>HOBBIES_2</td>\n",
       "      <td>HOBBIES</td>\n",
       "      <td>CA_1</td>\n",
       "      <td>CA</td>\n",
       "      <td>d_1941</td>\n",
       "      <td>0</td>\n",
       "    </tr>\n",
       "    <tr>\n",
       "      <th>59151162</th>\n",
       "      <td>HOBBIES_2_147_CA_1_evaluation</td>\n",
       "      <td>HOBBIES_2_147</td>\n",
       "      <td>HOBBIES_2</td>\n",
       "      <td>HOBBIES</td>\n",
       "      <td>CA_1</td>\n",
       "      <td>CA</td>\n",
       "      <td>d_1941</td>\n",
       "      <td>0</td>\n",
       "    </tr>\n",
       "    <tr>\n",
       "      <th>59151163</th>\n",
       "      <td>HOBBIES_2_148_CA_1_evaluation</td>\n",
       "      <td>HOBBIES_2_148</td>\n",
       "      <td>HOBBIES_2</td>\n",
       "      <td>HOBBIES</td>\n",
       "      <td>CA_1</td>\n",
       "      <td>CA</td>\n",
       "      <td>d_1941</td>\n",
       "      <td>0</td>\n",
       "    </tr>\n",
       "    <tr>\n",
       "      <th>59151164</th>\n",
       "      <td>HOBBIES_2_149_CA_1_evaluation</td>\n",
       "      <td>HOBBIES_2_149</td>\n",
       "      <td>HOBBIES_2</td>\n",
       "      <td>HOBBIES</td>\n",
       "      <td>CA_1</td>\n",
       "      <td>CA</td>\n",
       "      <td>d_1941</td>\n",
       "      <td>0</td>\n",
       "    </tr>\n",
       "  </tbody>\n",
       "</table>\n",
       "<p>1096665 rows × 8 columns</p>\n",
       "</div>"
      ],
      "text/plain": [
       "                                     id        item_id    dept_id   cat_id  \\\n",
       "0         HOBBIES_1_001_CA_1_evaluation  HOBBIES_1_001  HOBBIES_1  HOBBIES   \n",
       "1         HOBBIES_1_002_CA_1_evaluation  HOBBIES_1_002  HOBBIES_1  HOBBIES   \n",
       "2         HOBBIES_1_003_CA_1_evaluation  HOBBIES_1_003  HOBBIES_1  HOBBIES   \n",
       "3         HOBBIES_1_004_CA_1_evaluation  HOBBIES_1_004  HOBBIES_1  HOBBIES   \n",
       "4         HOBBIES_1_005_CA_1_evaluation  HOBBIES_1_005  HOBBIES_1  HOBBIES   \n",
       "...                                 ...            ...        ...      ...   \n",
       "59151160  HOBBIES_2_145_CA_1_evaluation  HOBBIES_2_145  HOBBIES_2  HOBBIES   \n",
       "59151161  HOBBIES_2_146_CA_1_evaluation  HOBBIES_2_146  HOBBIES_2  HOBBIES   \n",
       "59151162  HOBBIES_2_147_CA_1_evaluation  HOBBIES_2_147  HOBBIES_2  HOBBIES   \n",
       "59151163  HOBBIES_2_148_CA_1_evaluation  HOBBIES_2_148  HOBBIES_2  HOBBIES   \n",
       "59151164  HOBBIES_2_149_CA_1_evaluation  HOBBIES_2_149  HOBBIES_2  HOBBIES   \n",
       "\n",
       "         store_id state_id     day  sales  \n",
       "0            CA_1       CA     d_1      0  \n",
       "1            CA_1       CA     d_1      0  \n",
       "2            CA_1       CA     d_1      0  \n",
       "3            CA_1       CA     d_1      0  \n",
       "4            CA_1       CA     d_1      0  \n",
       "...           ...      ...     ...    ...  \n",
       "59151160     CA_1       CA  d_1941      0  \n",
       "59151161     CA_1       CA  d_1941      0  \n",
       "59151162     CA_1       CA  d_1941      0  \n",
       "59151163     CA_1       CA  d_1941      0  \n",
       "59151164     CA_1       CA  d_1941      0  \n",
       "\n",
       "[1096665 rows x 8 columns]"
      ]
     },
     "execution_count": 32,
     "metadata": {},
     "output_type": "execute_result"
    }
   ],
   "source": [
    "alpha_ca_hobbies_sales_long"
   ]
  },
  {
   "cell_type": "code",
   "execution_count": 33,
   "id": "c0c7df55-a967-49d6-8ac4-482c02461ca8",
   "metadata": {},
   "outputs": [],
   "source": [
    "## Spitting out filtered_sales_df containing each Product in Hobbies Department\n",
    "# Uncomment to generate\n",
    "\n",
    "#alpha_ca_hobbies_sales_long.to_csv('hobbies_dep_sales.csv', index=True)"
   ]
  },
  {
   "cell_type": "code",
   "execution_count": 34,
   "id": "e85253ee-0784-4df1-acad-2464aa49f97d",
   "metadata": {},
   "outputs": [
    {
     "data": {
      "text/plain": [
       "565"
      ]
     },
     "execution_count": 34,
     "metadata": {},
     "output_type": "execute_result"
    }
   ],
   "source": [
    "alpha_ca_hobbies_sales_long[\"item_id\"].nunique()"
   ]
  },
  {
   "cell_type": "markdown",
   "id": "7f276fc9-65bb-4c11-9ca6-2371b09c40a3",
   "metadata": {},
   "source": [
    "______________________________"
   ]
  }
 ],
 "metadata": {
  "kernelspec": {
   "display_name": "Python 3 (ipykernel)",
   "language": "python",
   "name": "python3"
  },
  "language_info": {
   "codemirror_mode": {
    "name": "ipython",
    "version": 3
   },
   "file_extension": ".py",
   "mimetype": "text/x-python",
   "name": "python",
   "nbconvert_exporter": "python",
   "pygments_lexer": "ipython3",
   "version": "3.12.4"
  }
 },
 "nbformat": 4,
 "nbformat_minor": 5
}
